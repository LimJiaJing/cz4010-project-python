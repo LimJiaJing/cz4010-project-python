{
 "cells": [
  {
   "cell_type": "code",
   "execution_count": 1,
   "id": "7f0d96fe",
   "metadata": {},
   "outputs": [],
   "source": [
    "# import libraries (non-cryptogaphic)\n",
    "import random # to generate phone numbers\n",
    "import pandas as pd\n",
    "from functools import reduce\n",
    "import os\n",
    "\n",
    "# import libraries (cryptographic)\n",
    "import cryptography.hazmat.primitives.asymmetric.dh as dh\n",
    "from cryptography.fernet import Fernet\n",
    "import hashlib\n",
    "import sympy\n",
    "import secrets"
   ]
  },
  {
   "cell_type": "markdown",
   "id": "bea0438b",
   "metadata": {},
   "source": [
    "# Generate phone numbers and store them in phone_numbers.csv file"
   ]
  },
  {
   "cell_type": "code",
   "execution_count": 2,
   "id": "33d670c0",
   "metadata": {},
   "outputs": [],
   "source": [
    "random.seed(10) # to ensure same phone numbers generated every time"
   ]
  },
  {
   "cell_type": "code",
   "execution_count": 3,
   "id": "7abf8972",
   "metadata": {},
   "outputs": [],
   "source": [
    "# class to generate phone numbers for grab and gojek\n",
    "class PhoneNumberGenerator:\n",
    "    def __call__(self, count):\n",
    "        phone_numbers = random.sample(range(80000000,100000000), count)\n",
    "        return phone_numbers \n",
    "\n",
    "class FakePhoneNumberGenerator:\n",
    "    def __call__(self, count):\n",
    "        numbers = random.sample(range(10000000,80000000), count) # invalid phone numbers generated\n",
    "        return numbers\n",
    "            \n",
    "    \n",
    "# class to store numbers to csv\n",
    "class PhoneNumberStorageManager:\n",
    "    def __init__(self):\n",
    "        self.filename = \"phone_numbers_padded.csv\"\n",
    "    def __call__(self, gojek_phone_numbers, grab_phone_numbers):\n",
    "        d = {\"gojek\": gojek_phone_numbers, \n",
    "            \"grab\": grab_phone_numbers}\n",
    "        df = pd.DataFrame(dict([(k,pd.Series(v)) for k,v in d.items()])) # create dataframe\n",
    "        df.to_csv(self.filename, index = False) # store values to file \"phone_numbers_padded.csv\""
   ]
  },
  {
   "cell_type": "code",
   "execution_count": 4,
   "id": "85482c94",
   "metadata": {},
   "outputs": [],
   "source": [
    "set_size = 100 # both parties are to exchange sets of a pre-determined size\n",
    "\n",
    "# generate and store phone numbers\n",
    "gojek_phone_number_count = 61 # inclusive of phone numbers in common with grab\n",
    "grab_phone_number_count = 91 # inclusive of phone numbers in common with gojek\n",
    "common_phone_number_count = 10\n",
    "\n",
    "# instantiate required classes\n",
    "phone_number_generator = PhoneNumberGenerator()\n",
    "fake_phone_number_generator = FakePhoneNumberGenerator()\n",
    "phone_number_storage_manager = PhoneNumberStorageManager()\n",
    "\n",
    "# generate phone numbers\n",
    "phone_numbers = phone_number_generator(gojek_phone_number_count+grab_phone_number_count-common_phone_number_count)\n",
    "common_phone_numbers = phone_numbers[0:common_phone_number_count]\n",
    "gojek_phone_numbers = phone_numbers[0:gojek_phone_number_count]\n",
    "grab_phone_numbers = common_phone_numbers + phone_numbers[gojek_phone_number_count:] \n",
    "\n",
    "# generate fake phone numbers\n",
    "gojek_fake_phone_numbers = fake_phone_number_generator(set_size-gojek_phone_number_count)\n",
    "grab_fake_phone_numbers = fake_phone_number_generator(set_size-grab_phone_number_count)\n",
    "\n",
    "# add fake phone numbers to phone numbers\n",
    "gojek_padded_set = gojek_phone_numbers + gojek_fake_phone_numbers\n",
    "grab_padded_set = grab_phone_numbers + grab_fake_phone_numbers\n",
    "\n",
    "# shuffle phone number lists\n",
    "random.shuffle(gojek_padded_set)\n",
    "random.shuffle(grab_padded_set)\n",
    "\n",
    "# write phone numbers (with fake ones) to csv file\n",
    "phone_number_storage_manager(gojek_padded_set, grab_padded_set)"
   ]
  },
  {
   "cell_type": "markdown",
   "id": "9a4bf976",
   "metadata": {},
   "source": [
    "# Define classes for the necessary for the algorithm"
   ]
  },
  {
   "cell_type": "code",
   "execution_count": 5,
   "id": "ec3212b9",
   "metadata": {},
   "outputs": [],
   "source": [
    "# class to generate numbers required for psi\n",
    "class NumberGenerator:\n",
    "    \n",
    "    def generate_public_parameters(self, size):\n",
    "        # method to generate p, q and factors of p-1\n",
    "        p = self.generate_safe_prime(size)\n",
    "        print(f\"p is prime: {sympy.ntheory.isprime(p)}\")\n",
    "        length_of_p = len(bin(p)[2:]) # should be 1024\n",
    "        print(f\"Length of prime modulus, p: {length_of_p}.\\nNote: Should be {size}.\")\n",
    "        q = (p-1)//2\n",
    "        print(f\"q is prime: {sympy.ntheory.isprime(q)}\")\n",
    "        factors_pminus1 = [1, 2, q] # since q is prime, 2q only has these 3 factors excluding itself\n",
    "                                    # 2q = p-1\n",
    "                                    # factors of p-1 required to compute order of generators (lagrange theorem)\n",
    "        return p, factors_pminus1\n",
    "\n",
    "    def generate_safe_prime(self, size):\n",
    "        # method to generate safe prime for p\n",
    "        candidate = dh.generate_parameters(2, size).parameter_numbers().p # generate 1024-bit prime number\n",
    "        while True:\n",
    "            # the method used from the cryptography already generates a safe prime, this portion is merely to double confirm\n",
    "            is_safe_prime = sympy.ntheory.isprime((candidate-1)//2) # if safe prime, (candidate-1)/2 is prime\n",
    "            if (is_safe_prime):\n",
    "                break\n",
    "            else:\n",
    "                candidate = dh.generate_parameters(2, size).parameter_numbers().p\n",
    "                print(candidate)\n",
    " \n",
    "        return candidate\n",
    "    \n",
    "    \n",
    "    def generate_random_number(self, size):\n",
    "        # method to generate client's secret\n",
    "        return secrets.randbits(size)\n",
    "            \n",
    "# class to inspect values          \n",
    "class NumberInspector:\n",
    "    \n",
    "    def check_is_primitive_generator(self, candidate, factors_divisorminus1, divisor): # note: factors should be the factors of divisor-1\n",
    "        \n",
    "        # apply lagrange theorem\n",
    "        for possible_order in factors_divisorminus1: # check congruence for all factors (factors is exclusive of p-1 itself)\n",
    "            result = pow(candidate, possible_order, divisor) # fast modular exponentiation implemented in pow(x,y,z)\n",
    "                                                             # python integers have arbitrary precisions, \n",
    "                                                             # no overflow would occur if operations done in pure python\n",
    "            if (result == 1):\n",
    "                return False # if candidate exponent any of the factors (1,2,q) congruent to 1modp, candidate is not a primitive\n",
    "                             # generator\n",
    "        return True # order of candidate == p-1, therefore candidate is a primitive generator\n",
    "\n",
    "    \n",
    "class StorageManager:\n",
    "    \n",
    "    def store_data(self, filename, data):\n",
    "        df = pd.DataFrame(dict([(k,pd.Series(v)) for k,v in data.items()])) # create dataframe\n",
    "        df.to_csv(filename, index=False) # store data to file with filename\n"
   ]
  },
  {
   "cell_type": "markdown",
   "id": "60d7e408",
   "metadata": {},
   "source": [
    "# Create psi client class"
   ]
  },
  {
   "cell_type": "code",
   "execution_count": 6,
   "id": "299bd91b",
   "metadata": {},
   "outputs": [],
   "source": [
    "# client class (both grab and gojek are clients communicating directly with each other)\n",
    "class Client:\n",
    "    def __init__(self, name, other_party_name, private_key_size, phone_numbers, p, factors_pminus1, fernet_key):\n",
    "        \n",
    "        self.number_inspector = NumberInspector()\n",
    "        self.number_generator = NumberGenerator()\n",
    "        \n",
    "        # for asymmetric encryption\n",
    "        self.private_key = self.number_generator.generate_random_number(private_key_size)\n",
    "        self.my_set = phone_numbers\n",
    "        self.p = p # prime modulus\n",
    "        self.factors_pminus1 = factors_pminus1 # to calculate order of hashed phone numbers, \n",
    "                                               # since algorithm requires them to be primitive generators\n",
    "        \n",
    "        # for symmetric encryption\n",
    "        self.fernet_key = fernet_key\n",
    "        self.f = Fernet(fernet_key)\n",
    "        \n",
    "        # variables to track for psi algorithm\n",
    "        self.my_hashed_set = None # h(x)\n",
    "        self.my_self_encrypted_set = None # (h(x)^(my_secret))modp\n",
    "        self.my_encrypted_set = None # (h(x)^(my_secret)(other_party_secret))modp\n",
    "        self.other_party_encrypted_set = None # (h(y)^(my_secret)(other_party_secret))modp\n",
    "        self.common_values = None # common phone numbers, with invalid phone numbers removed\n",
    "        \n",
    "        # variables to ensure no shuffling of encrypted values\n",
    "        self.my_common_hashes = None # common hashed values with hashed values of invalid phone numbers included\n",
    "        self.my_sum_of_hashes = None # sum of the common hashed values, h(x_1) + h(x_2) + ... + h(x_n), \n",
    "                                     # where n is the number of elements in the intersection of the 2 sets and \n",
    "                                     # h(x_i) are the elements in the intersection\n",
    "        \n",
    "        self.my_self_encrypted_sum_of_hashes = None # ((my_sum_of_hashes)^(my_secret))modp\n",
    "        \n",
    "        self.my_actual_value = None # other_party_encrypted_sum_of_hashes, \n",
    "                                    # ((other_party_sum_of_hashes)^(my_secret)(other_party_secret))modp\n",
    "        self.my_committed_value = None # hash value of other_party_encrypted_sum_of_hashes, h(my_actual_value)\n",
    "\n",
    "        \n",
    "        \n",
    "        # create datafile for communication with another party\n",
    "        \n",
    "        # content to store in file\n",
    "        # need to share self_encrypted_values and other_party_encrypted_values for basic psi algorithm\n",
    "        # need to share my_self_encrypted_sum_of_hashes, my_committed_value, and my_actual_value for preventing the shuffling of encrypted values\n",
    "        # common_values to ensure both calculate the same intersection\n",
    "        self.my_dict = {\n",
    "            'my_self_encrypted_set': None, \n",
    "            'other_party_encrypted_set': None,\n",
    "            'common_values': None,\n",
    "            'my_self_encrypted_sum_of_hashes': None,\n",
    "            'my_committed_value': None,\n",
    "            'my_actual_value': None\n",
    "            \n",
    "        }\n",
    "        \n",
    "        # filenames\n",
    "        self.name = name\n",
    "        self.filename = name + \"_data_v2.0.csv\"\n",
    "        self.other_party_name = other_party_name\n",
    "        self.other_party_filename = other_party_name + \"_data_v2.0.csv\"\n",
    "        \n",
    "        # create file\n",
    "        self.storage_manager = StorageManager()\n",
    "        self.storage_manager.store_data(self.filename, self.my_dict)\n",
    "\n",
    "    def hash_to_primitive_root_modulo_p(self, element): \n",
    "        # method to hash phone numbers to primitive root modulo p i.e. primitive generator\n",
    "\n",
    "        endian = \"big\"\n",
    "        element = element.to_bytes(4, endian)\n",
    "        hash_hex = hashlib.sha256(element).hexdigest() # sha3_256\n",
    "        hash_int = int(hash_hex, 16)\n",
    "        while True:\n",
    "            # repeatedly hash until primitive root modulo p is obtained\n",
    "            is_primitive_generator = self.number_inspector.check_is_primitive_generator(\n",
    "                hash_int, self.factors_pminus1, self.p\n",
    "            )\n",
    "            if (is_primitive_generator):\n",
    "                break\n",
    "            else:\n",
    "                hash_int = hash_int.to_bytes(32, endian)\n",
    "                hash_hex = hashlib.sha256(hash_int).hexdigest()\n",
    "                hash_int = int(hash_hex, 16)\n",
    "                \n",
    "        return hash_int\n",
    "    \n",
    "    def modular_exponentation(self, element):\n",
    "        # compute (element^(private_key))modp\n",
    "    \n",
    "        return pow(element, self.private_key, self.p)\n",
    "    \n",
    "    def hash_set(self):\n",
    "        # hash all phone numbers in my set to primitive root modulo p, one by one\n",
    "        \n",
    "        self.my_hashed_set = []\n",
    "        \n",
    "        for element in self.my_set:\n",
    "            hashed_value = self.hash_to_primitive_root_modulo_p(element)\n",
    "            self.my_hashed_set.append(hashed_value)\n",
    "            \n",
    "    def encrypt_set(self, is_other_party):\n",
    "        # encrypt all elements in a given set using private_key, one by one\n",
    "        \n",
    "        # two scenarios to consider\n",
    "        # one: encrypt set sent by the other party\n",
    "        if (is_other_party):\n",
    "            decrypted_other_party_set = self.receive_data(\"my_self_encrypted_set\")\n",
    "            other_party_set_int = []\n",
    "            for element_string in decrypted_other_party_set:\n",
    "                other_party_set_int.append(int(element_string))\n",
    "            set_to_encrypt = other_party_set_int\n",
    "        # two: encrypt my own set\n",
    "        else:\n",
    "            set_to_encrypt = self.my_hashed_set\n",
    "        \n",
    "        # encrypt values in given set, one by one\n",
    "        encrypted_values = []\n",
    "        for element in set_to_encrypt:\n",
    "            encrypted_value = self.modular_exponentation(element)\n",
    "            encrypted_values.append(encrypted_value)\n",
    "            \n",
    "        # assign the encrypted set to the correct variable\n",
    "        # update csv file used for communication\n",
    "        if (is_other_party):\n",
    "            self.other_party_encrypted_set = encrypted_values\n",
    "            self.send_data(encrypted_values, \"other_party_encrypted_set\")\n",
    "        else:\n",
    "            self.my_self_encrypted_set = encrypted_values\n",
    "            self.send_data(encrypted_values, \"my_self_encrypted_set\")\n",
    "                    \n",
    "        \n",
    "    def get_intersection(self):\n",
    "        \n",
    "        # get intersection\n",
    "        \n",
    "        my_encrypted_set = self.receive_data(\"other_party_encrypted_set\") # read my encrypted set from the other party's file\n",
    "        my_encrypted_set_int = []\n",
    "        \n",
    "        # convert read values to integer\n",
    "        for element in my_encrypted_set:\n",
    "            my_encrypted_set_int.append(int(element))\n",
    "            \n",
    "        # assign to correct variable\n",
    "        self.my_encrypted_set = my_encrypted_set_int\n",
    "        \n",
    "        # get intersection\n",
    "        encrypted_common_values = set(self.my_encrypted_set).intersection(self.other_party_encrypted_set)\n",
    "        \n",
    "        index_of_common_values = []\n",
    "        \n",
    "        # find the index of the elements in the intersection in my_encrypted_set\n",
    "        for element in encrypted_common_values:\n",
    "            index_of_common_values.append(self.my_encrypted_set.index(element))\n",
    "            \n",
    "        self.common_values = [] # common valid phone numbers\n",
    "        self.my_common_hashes = [] # common hashed values (inclusive of hashed value of invalid phone numbers)\n",
    "        \n",
    "        # find the values in my_set and my_hashed_set corresponding to the index of the elements in the intersection\n",
    "        for index in index_of_common_values:\n",
    "            potential_phone_number = self.my_set[index]\n",
    "            \n",
    "            if ((potential_phone_number-79999999)>0): # remove any potential fake numbers that intersect\n",
    "                self.common_values.append(potential_phone_number)\n",
    "                \n",
    "            self.my_common_hashes.append(self.my_hashed_set[index])\n",
    "        \n",
    "        # update csv file for communication\n",
    "        self.send_data(self.common_values, \"common_values\")\n",
    "    \n",
    "    \n",
    "    def compute_sum_of_common_hashed_values(self):\n",
    "        # compute sum of hashed values in the common intersection\n",
    "        \n",
    "        self.my_sum_of_hashes = sum(self.my_common_hashes)\n",
    "    \n",
    "    def encrypt_sum_of_common_hashed_values(self, is_other_party):\n",
    "        # encrypt the sum of common hashed values\n",
    "        # there are two scenarios\n",
    "        # one: encrypt other party's self encrypted sum of hashes\n",
    "        if(is_other_party):\n",
    "            value_to_encrypt = int((self.receive_data('my_self_encrypted_sum_of_hashes'))[0]) # get other party's self encrypted sum of hashes, \n",
    "                                                                                         # ((other_party_sum_of_hashes)^(other_party_secret))modp\n",
    "        # two: encrypt my_sum_of_hashes\n",
    "        else:\n",
    "            value_to_encrypt = self.my_sum_of_hashes # to obtain my_self_encrypted_sum_of_hashes\n",
    "        \n",
    "        encrypted_value = self.modular_exponentation(value_to_encrypt) # get ((value_to_encrypt)^(my_secret))modp\n",
    "        \n",
    "        # assign to the corresponding variable\n",
    "        if (is_other_party):\n",
    "            self.my_actual_value = encrypted_value # do not send this value yet, must send the hash of this first (for commit mechanism)\n",
    "        else:\n",
    "            self.my_self_encrypted_sum_of_hashes = encrypted_value\n",
    "            self.send_data([self.my_self_encrypted_sum_of_hashes], \"my_self_encrypted_sum_of_hashes\")\n",
    "        \n",
    "    \n",
    "    def hash_value(self, value, byte_size):\n",
    "        # hash the given value with size = byte_size\n",
    "        \n",
    "        endian = \"big\"\n",
    "        element = value.to_bytes(byte_size, endian)\n",
    "        hash_hex = hashlib.sha256(element).hexdigest() # sha3_256\n",
    "        hash_int = int(hash_hex, 16)\n",
    "        return hash_int\n",
    "    \n",
    "    def commit_to_hash_value(self):\n",
    "        # hash actual value and send the hashed value\n",
    "        self.my_committed_value = self.hash_value(self.my_actual_value, 1024//8)\n",
    "        self.send_data([self.my_committed_value], \"my_committed_value\")\n",
    "    \n",
    "    \n",
    "    def reveal_actual_value(self):\n",
    "        # send the actual value\n",
    "        \n",
    "        self.send_data([self.my_actual_value], \"my_actual_value\")\n",
    "    \n",
    "    \n",
    "    def check_if_actual_and_committed_values_match(self):\n",
    "        # check if the committed value is the hash of the actual value\n",
    "        \n",
    "        # get required values        \n",
    "         \n",
    "        other_party_committed_value = int((self.receive_data(\"my_committed_value\"))[0]) # get other_party_committed_value\n",
    "        other_party_actual_value = int((self.receive_data(\"my_actual_value\"))[0]) # get other_party_actual_value\n",
    "        hashed_value = self.hash_value(other_party_actual_value, 1024//8) # hash other_party_actual_value\n",
    "        \n",
    "        # check if values match\n",
    "        if (hashed_value == other_party_committed_value):\n",
    "            print(\"committed and actual values match!\")\n",
    "            return True\n",
    "        else:\n",
    "            print(\"committed and actual values do not match!\")\n",
    "            return False\n",
    "    \n",
    "    def check_if_actual_values_match(self):\n",
    "        # check if my actual value is equal to the other party's actual value\n",
    "        \n",
    "        other_party_actual_value = int((self.receive_data(\"my_actual_value\"))[0]) # get other_party_actual_value\n",
    "        \n",
    "        # check if values match\n",
    "        if (other_party_actual_value == self.my_actual_value):\n",
    "            print(\"actual values match!\")\n",
    "            return True\n",
    "        else:\n",
    "            print(\"actual values do not match!\")\n",
    "            return False\n",
    "    \n",
    "    def encrypt_data(self, plaintext):\n",
    "        # encrypt data with Fernet\n",
    "        \n",
    "        endian = \"big\"\n",
    "        element = plaintext.to_bytes(128, endian) # 1024 bits == 128 bytes\n",
    "        cipher_text = self.f.encrypt(element)\n",
    "        return cipher_text\n",
    "    \n",
    "    def decrypt_data(self, ciphertext):\n",
    "        # decrypt data encrypted by Fernet\n",
    "        \n",
    "        ciphertext_bytes = ciphertext.encode('utf-8')[2:-1] # convert from string back to bytes\n",
    "        endian = \"big\"\n",
    "        element_in_bytes = self.f.decrypt(ciphertext_bytes)\n",
    "        plaintext = int.from_bytes(element_in_bytes, endian)\n",
    "        return plaintext\n",
    "\n",
    "    def send_data(self, data_to_send, column_name):\n",
    "        # send data means writing to file. encrypt data with Fernet\n",
    "        \n",
    "        # encrypt data\n",
    "        encrypted_data_to_send = []\n",
    "        for element in data_to_send:\n",
    "            encrypted_element = self.encrypt_data(element)\n",
    "            encrypted_data_to_send.append(encrypted_element)\n",
    "            \n",
    "        # send data\n",
    "        self.my_dict[column_name] = encrypted_data_to_send\n",
    "        self.storage_manager.store_data(self.filename, self.my_dict)\n",
    "        \n",
    "        \n",
    "    def receive_data(self, column_name):\n",
    "        # receive data means reading from file (my file). decrypt data encrypted by Fernet\n",
    "        \n",
    "        # receive data\n",
    "        encrypted_data = self.get_other_party_data()[column_name].to_list()\n",
    "        \n",
    "        # decrypt data\n",
    "        decrypted_data = []\n",
    "        for element in encrypted_data:\n",
    "            if type(element) is float: # remove NaN\n",
    "                continue\n",
    "            decrypted_element = self.decrypt_data(element)\n",
    "            decrypted_data.append(decrypted_element)\n",
    "        return decrypted_data\n",
    "    \n",
    "    def get_my_data(self):\n",
    "        # read my file as dataframe (other party's file)\n",
    "        \n",
    "        return pd.read_csv(self.filename)\n",
    "            \n",
    "    def get_other_party_data(self):\n",
    "        # read other party's file as dataframe\n",
    "        \n",
    "        return pd.read_csv(self.other_party_filename)\n",
    "    \n",
    "    \n"
   ]
  },
  {
   "cell_type": "markdown",
   "id": "fd5a7696",
   "metadata": {},
   "source": [
    "# Initialize context"
   ]
  },
  {
   "cell_type": "code",
   "execution_count": null,
   "id": "c291cab8",
   "metadata": {},
   "outputs": [],
   "source": [
    "# assign pre-determined variables for psi\n",
    "key_size = 1024 # both private keys and large prime\n",
    "\n",
    "# create key for symmetric key cryptography\n",
    "fernet_key = Fernet.generate_key()\n",
    "\n",
    "# create public parameters required for psi\n",
    "number_generator = NumberGenerator()\n",
    "p, factors_pminus1 = number_generator.generate_public_parameters(key_size)\n",
    "\n",
    "# create clients\n",
    "grab = Client(\"grab\", \"gojek\", key_size, grab_padded_set, p, factors_pminus1, fernet_key)\n",
    "gojek = Client(\"gojek\", \"grab\", key_size, gojek_padded_set, p, factors_pminus1, fernet_key)\n",
    "\n"
   ]
  },
  {
   "cell_type": "markdown",
   "id": "8db0b615",
   "metadata": {},
   "source": [
    "# Get intersection"
   ]
  },
  {
   "cell_type": "markdown",
   "id": "e11da7c0",
   "metadata": {},
   "source": [
    "## Step 1: Hash phone numbers"
   ]
  },
  {
   "cell_type": "code",
   "execution_count": null,
   "id": "8c70a9ea",
   "metadata": {},
   "outputs": [],
   "source": [
    "# clients hash their own set\n",
    "grab.hash_set()\n",
    "gojek.hash_set()"
   ]
  },
  {
   "cell_type": "markdown",
   "id": "61c950dc",
   "metadata": {},
   "source": [
    "### Clients' status after step 1\n",
    "Note: hashed set is not stored in the file as it is not meant to be shared with the other party hence, files' status after step 1 is not shown"
   ]
  },
  {
   "cell_type": "code",
   "execution_count": null,
   "id": "8b9b9923",
   "metadata": {},
   "outputs": [],
   "source": [
    "d = {\"gojek hashed set\": gojek.my_hashed_set,\n",
    "    \"grab hashed set\": grab.my_hashed_set}\n",
    "df = pd.DataFrame(dict([(k,pd.Series(v)) for k,v in d.items()]))\n",
    "df"
   ]
  },
  {
   "cell_type": "markdown",
   "id": "003648a8",
   "metadata": {},
   "source": [
    "## Step 2: encrypt hashed set with own private key"
   ]
  },
  {
   "cell_type": "code",
   "execution_count": null,
   "id": "8b2cd508",
   "metadata": {},
   "outputs": [],
   "source": [
    "# clients self encrypt hashed set\n",
    "grab.encrypt_set(False) # set is_other_party to false to encrypt own hashed set\n",
    "gojek.encrypt_set(False)"
   ]
  },
  {
   "cell_type": "markdown",
   "id": "1740b809",
   "metadata": {},
   "source": [
    "### Clients' status after step 2 (value of variables in client)"
   ]
  },
  {
   "cell_type": "code",
   "execution_count": null,
   "id": "d6c5a487",
   "metadata": {},
   "outputs": [],
   "source": [
    "d = {\"gojek hashed set\": gojek.my_hashed_set,\n",
    "    \"grab hashed set\": grab.my_hashed_set,\n",
    "    \"gojek self-encrypted set\": gojek.my_self_encrypted_set,\n",
    "    \"grab self-encrypted set\": grab.my_self_encrypted_set}\n",
    "df = pd.DataFrame(dict([(k,pd.Series(v)) for k,v in d.items()]))\n",
    "df"
   ]
  },
  {
   "cell_type": "markdown",
   "id": "61323254",
   "metadata": {},
   "source": [
    "### Files' status after step 2 (value of variables in file - clients' variables encrypted with Fernet)"
   ]
  },
  {
   "cell_type": "code",
   "execution_count": null,
   "id": "dc7e984b",
   "metadata": {},
   "outputs": [],
   "source": [
    "df_gojek = gojek.get_my_data()\n",
    "df_grab = grab.get_my_data()\n",
    "print(\"gojek's file:\")\n",
    "df_gojek\n"
   ]
  },
  {
   "cell_type": "code",
   "execution_count": null,
   "id": "be8ef96b",
   "metadata": {},
   "outputs": [],
   "source": [
    "print(\"grab's file:\")\n",
    "df_grab"
   ]
  },
  {
   "cell_type": "markdown",
   "id": "160c4d4d",
   "metadata": {},
   "source": [
    "## Step 3: encrypt other party's self-encrypted set with own private key\n"
   ]
  },
  {
   "cell_type": "code",
   "execution_count": null,
   "id": "7650c553",
   "metadata": {},
   "outputs": [],
   "source": [
    "# clients encrypt other party's self encrypted set\n",
    "grab.encrypt_set(True) # set is_other_party to true\n",
    "gojek.encrypt_set(True)"
   ]
  },
  {
   "cell_type": "markdown",
   "id": "845a23e5",
   "metadata": {},
   "source": [
    "### Clients' status after step 3"
   ]
  },
  {
   "cell_type": "code",
   "execution_count": null,
   "id": "bff86940",
   "metadata": {},
   "outputs": [],
   "source": [
    "d = {\"gojek hashed set\": gojek.my_hashed_set,\n",
    "    \"grab hashed set\": grab.my_hashed_set,\n",
    "    \"gojek self-encrypted set\": gojek.my_self_encrypted_set,\n",
    "    \"grab self-encrypted set\": grab.my_self_encrypted_set,\n",
    "    \"gojek encrypted set\": grab.other_party_encrypted_set,\n",
    "    \"grab encrypted set\": gojek.other_party_encrypted_set}\n",
    "df = pd.DataFrame(dict([(k,pd.Series(v)) for k,v in d.items()]))\n",
    "df"
   ]
  },
  {
   "cell_type": "markdown",
   "id": "c8e11ca7",
   "metadata": {},
   "source": [
    "### Files' status after step 3"
   ]
  },
  {
   "cell_type": "code",
   "execution_count": null,
   "id": "37e14863",
   "metadata": {},
   "outputs": [],
   "source": [
    "df_gojek = gojek.get_my_data()\n",
    "df_grab = grab.get_my_data()\n",
    "print(\"gojek's file:\")\n",
    "df_gojek\n",
    "\n"
   ]
  },
  {
   "cell_type": "code",
   "execution_count": null,
   "id": "b28a9799",
   "metadata": {},
   "outputs": [],
   "source": [
    "print(\"grab's file:\")\n",
    "df_grab"
   ]
  },
  {
   "cell_type": "markdown",
   "id": "cbda3a1c",
   "metadata": {},
   "source": [
    "## Step 4: find intersection\n"
   ]
  },
  {
   "cell_type": "code",
   "execution_count": null,
   "id": "3a51066a",
   "metadata": {},
   "outputs": [],
   "source": [
    "# clients find intersection\n",
    "grab.get_intersection()\n",
    "gojek.get_intersection()"
   ]
  },
  {
   "cell_type": "markdown",
   "id": "eb13ffe1",
   "metadata": {},
   "source": [
    "### Clients' status after step 4:"
   ]
  },
  {
   "cell_type": "code",
   "execution_count": null,
   "id": "fa85e324",
   "metadata": {},
   "outputs": [],
   "source": [
    "d = {\"gojek hashed set\": gojek.my_hashed_set,\n",
    "    \"grab hashed set\": grab.my_hashed_set,\n",
    "    \"gojek self-encrypted set\": gojek.my_self_encrypted_set,\n",
    "    \"grab self-encrypted set\": grab.my_self_encrypted_set,\n",
    "    \"gojek encrypted set\": grab.other_party_encrypted_set,\n",
    "    \"grab encrypted set\": gojek.other_party_encrypted_set,\n",
    "    \"gojek found intersection\": gojek.common_values,\n",
    "    \"grab found intersection:\": grab.common_values}\n",
    "df = pd.DataFrame(dict([(k,pd.Series(v)) for k,v in d.items()]))\n",
    "df"
   ]
  },
  {
   "cell_type": "markdown",
   "id": "8d395e60",
   "metadata": {},
   "source": [
    "Note: Last 2 columns, unlike the rest of the columns, do not have a one-to-one mapping with other values belonging to the same row i.e. values in the last 2 columns do not have any relation to the other values in the same row as it."
   ]
  },
  {
   "cell_type": "markdown",
   "id": "2015b382",
   "metadata": {},
   "source": [
    "### Files' status after step 4"
   ]
  },
  {
   "cell_type": "code",
   "execution_count": null,
   "id": "f3ec7394",
   "metadata": {},
   "outputs": [],
   "source": [
    "df_gojek = gojek.get_my_data()\n",
    "df_grab = grab.get_my_data()\n",
    "print(\"gojek's file:\")\n",
    "df_gojek\n"
   ]
  },
  {
   "cell_type": "code",
   "execution_count": null,
   "id": "b07bcaa2",
   "metadata": {},
   "outputs": [],
   "source": [
    "print(\"grab's file:\")\n",
    "df_grab"
   ]
  },
  {
   "cell_type": "markdown",
   "id": "d38bbe04",
   "metadata": {},
   "source": [
    "# Check results"
   ]
  },
  {
   "cell_type": "code",
   "execution_count": null,
   "id": "6bd1055e",
   "metadata": {},
   "outputs": [],
   "source": [
    "# get intersection found by the two parties\n",
    "gojek_found_intersection = gojek.common_values\n",
    "grab_found_intersection = grab.common_values\n",
    "\n",
    "\n",
    "# sort numbers for easier comparison\n",
    "gojek_found_intersection.sort()\n",
    "grab_found_intersection.sort()\n",
    "common_phone_numbers.sort()\n",
    "\n",
    "# summarize them in a dataframe\n",
    "d = {\"actual\": common_phone_numbers,\n",
    "    \"gojek\": gojek_found_intersection,\n",
    "    \"grab\": grab_found_intersection}\n",
    "df = pd.DataFrame(dict([(k,pd.Series(v)) for k,v in d.items()]))\n",
    "df"
   ]
  },
  {
   "cell_type": "markdown",
   "id": "da53becc",
   "metadata": {},
   "source": [
    "# Verify no shuffling of encrypted set"
   ]
  },
  {
   "cell_type": "markdown",
   "id": "b95c5868",
   "metadata": {},
   "source": [
    "## Step 1: Compute sum of common hashed values"
   ]
  },
  {
   "cell_type": "code",
   "execution_count": null,
   "id": "d6a296e3",
   "metadata": {},
   "outputs": [],
   "source": [
    "# clients compute sum of common hashed values\n",
    "gojek.compute_sum_of_common_hashed_values()\n",
    "grab.compute_sum_of_common_hashed_values()"
   ]
  },
  {
   "cell_type": "markdown",
   "id": "1a30a712",
   "metadata": {},
   "source": [
    "### Clients' status after step 1\n",
    "Note: sum_of_common_hashed_values is not stored in the file as it is not meant to be shared with the other party hence, files' status after step 1 is not shown"
   ]
  },
  {
   "cell_type": "code",
   "execution_count": null,
   "id": "6a837ec1",
   "metadata": {},
   "outputs": [],
   "source": [
    "d = {\"gojek common hashed values\": gojek.my_common_hashes,\n",
    "     \"grab common hashed values\": grab.my_common_hashes,\n",
    "    \"gojek sum of common hashed values\": gojek.my_sum_of_hashes,\n",
    "    \"grab sum of common hashed values\": grab.my_sum_of_hashes}\n",
    "df = pd.DataFrame(dict([(k,pd.Series(v)) for k,v in d.items()]))\n",
    "df"
   ]
  },
  {
   "cell_type": "markdown",
   "id": "876af2a5",
   "metadata": {},
   "source": [
    "## Step 2: Encrypt sum of common hashed values with own private key"
   ]
  },
  {
   "cell_type": "code",
   "execution_count": null,
   "id": "947c9857",
   "metadata": {},
   "outputs": [],
   "source": [
    "# clients encrypt sum of common hashed values with their private key\n",
    "gojek.encrypt_sum_of_common_hashed_values(False) # set is_other_party to false to encrypt own sum of common hashed values\n",
    "grab.encrypt_sum_of_common_hashed_values(False)"
   ]
  },
  {
   "cell_type": "markdown",
   "id": "6199b785",
   "metadata": {},
   "source": [
    "### Clients' status after step 2 (value of variables in client)"
   ]
  },
  {
   "cell_type": "code",
   "execution_count": null,
   "id": "b29d13cf",
   "metadata": {},
   "outputs": [],
   "source": [
    "d = {\"gojek common hashed values\": gojek.my_common_hashes,\n",
    "     \"grab common hashed values\": grab.my_common_hashes,\n",
    "    \"gojek sum of common hashed values\": gojek.my_sum_of_hashes,\n",
    "    \"grab sum of common hashed values\": grab.my_sum_of_hashes,\n",
    "    \"gojek self-encrypted sum of common hashed values\": gojek.my_self_encrypted_sum_of_hashes,\n",
    "    \"grab self-encrypted sum of common hashed values\": grab.my_self_encrypted_sum_of_hashes}\n",
    "df = pd.DataFrame(dict([(k,pd.Series(v)) for k,v in d.items()]))\n",
    "df"
   ]
  },
  {
   "cell_type": "markdown",
   "id": "723f8c15",
   "metadata": {},
   "source": [
    "### Files' status after step 2 (value of variables in file - clients' variables encrypted with Fernet)"
   ]
  },
  {
   "cell_type": "code",
   "execution_count": null,
   "id": "57cb9874",
   "metadata": {},
   "outputs": [],
   "source": [
    "df_gojek = gojek.get_my_data()\n",
    "df_grab = grab.get_my_data()\n",
    "print(\"gojek's file:\")\n",
    "df_gojek[\"my_self_encrypted_sum_of_hashes\"].to_frame().dropna()"
   ]
  },
  {
   "cell_type": "code",
   "execution_count": null,
   "id": "7461d80b",
   "metadata": {},
   "outputs": [],
   "source": [
    "print(\"grab's file:\")\n",
    "df_grab[\"my_self_encrypted_sum_of_hashes\"].to_frame().dropna(how = \"all\")"
   ]
  },
  {
   "cell_type": "markdown",
   "id": "58d93843",
   "metadata": {},
   "source": [
    "## Step 3: Encrypt other party's self-encrypted sum of common hashed values with own private key"
   ]
  },
  {
   "cell_type": "code",
   "execution_count": null,
   "id": "d403b607",
   "metadata": {},
   "outputs": [],
   "source": [
    "# clients encrypt other party's self-encrypted sum of common hashed values with their private key\n",
    "gojek.encrypt_sum_of_common_hashed_values(True) # set is_other_party to true to encrypt \n",
    "                                                # other party's self-encrypted sum of common hashed values\n",
    "grab.encrypt_sum_of_common_hashed_values(True)"
   ]
  },
  {
   "cell_type": "markdown",
   "id": "6ce7377d",
   "metadata": {},
   "source": [
    "### Clients' status after step 3 (value of variables in client)\n",
    "Note: the actual value is not to be shared yet therefore files' status after step 3 is not shown"
   ]
  },
  {
   "cell_type": "code",
   "execution_count": null,
   "id": "3c8e9f7b",
   "metadata": {},
   "outputs": [],
   "source": [
    "d = {\"gojek common hashed values\": gojek.my_common_hashes,\n",
    "     \"grab common hashed values\": grab.my_common_hashes,\n",
    "    \"gojek sum of common hashed values\": gojek.my_sum_of_hashes,\n",
    "    \"grab sum of common hashed values\": grab.my_sum_of_hashes,\n",
    "    \"gojek self-encrypted sum of common hashed values\": gojek.my_self_encrypted_sum_of_hashes,\n",
    "    \"grab self-encrypted sum of common hashed values\": grab.my_self_encrypted_sum_of_hashes,\n",
    "    \"gojek actual value\": gojek.my_actual_value,\n",
    "    \"grab actual value\": grab.my_actual_value}\n",
    "df = pd.DataFrame(dict([(k,pd.Series(v)) for k,v in d.items()]))\n",
    "df"
   ]
  },
  {
   "cell_type": "markdown",
   "id": "c85c4522",
   "metadata": {},
   "source": [
    "## Step 4: Commit to a value "
   ]
  },
  {
   "cell_type": "code",
   "execution_count": null,
   "id": "daf42f72",
   "metadata": {},
   "outputs": [],
   "source": [
    "# clients hash other party's encrypted sum of hashes ((other_party_sum_of_hashes)^(client_secret)(other_party_secret))modp\n",
    "# and send the value (h(((other_party_sum_of_hashes)^(client_secret)(other_party_secret))modp)) i.e. write to file\n",
    "gojek.commit_to_hash_value() \n",
    "grab.commit_to_hash_value()"
   ]
  },
  {
   "cell_type": "markdown",
   "id": "4be42161",
   "metadata": {},
   "source": [
    "### Clients' status after step 4 (value of variables in client)\n"
   ]
  },
  {
   "cell_type": "code",
   "execution_count": null,
   "id": "1f0b8070",
   "metadata": {},
   "outputs": [],
   "source": [
    "d = {\"gojek common hashed values\": gojek.my_common_hashes,\n",
    "     \"grab common hashed values\": grab.my_common_hashes,\n",
    "    \"gojek sum of common hashed values\": gojek.my_sum_of_hashes,\n",
    "    \"grab sum of common hashed values\": grab.my_sum_of_hashes,\n",
    "    \"gojek self-encrypted sum of common hashed values\": gojek.my_self_encrypted_sum_of_hashes,\n",
    "    \"grab self-encrypted sum of common hashed values\": grab.my_self_encrypted_sum_of_hashes,\n",
    "    \"gojek actual value\": gojek.my_actual_value,\n",
    "    \"grab actual value\": grab.my_actual_value,\n",
    "    \"gojek committed value\": gojek.my_committed_value,\n",
    "    \"grab committed value\": grab.my_committed_value}\n",
    "df = pd.DataFrame(dict([(k,pd.Series(v)) for k,v in d.items()]))\n",
    "df"
   ]
  },
  {
   "cell_type": "markdown",
   "id": "a3ef99df",
   "metadata": {},
   "source": [
    "### Files' status after step 4 (value of variables in file - clients' variables encrypted with Fernet)\n"
   ]
  },
  {
   "cell_type": "code",
   "execution_count": null,
   "id": "0ab30a20",
   "metadata": {},
   "outputs": [],
   "source": [
    "df_gojek = gojek.get_my_data()\n",
    "df_grab = grab.get_my_data()\n",
    "print(\"gojek's file:\")\n",
    "df_gojek[[\"my_self_encrypted_sum_of_hashes\", \"my_committed_value\"]].dropna()"
   ]
  },
  {
   "cell_type": "code",
   "execution_count": null,
   "id": "4e132894",
   "metadata": {},
   "outputs": [],
   "source": [
    "print(\"grab's file:\")\n",
    "df_grab[[\"my_self_encrypted_sum_of_hashes\", \"my_committed_value\"]].dropna()"
   ]
  },
  {
   "cell_type": "markdown",
   "id": "ebb4720a",
   "metadata": {},
   "source": [
    "## Step 5: Reveal actual value"
   ]
  },
  {
   "cell_type": "code",
   "execution_count": null,
   "id": "75b9c77a",
   "metadata": {},
   "outputs": [],
   "source": [
    "# clients send the actual value (((other_party_sum_of_hashes)^(client_secret)(other_party_secret))modp) i.e. write to file\n",
    "grab.reveal_actual_value() # note: grab has to reveal actual value before gojek since gojek was the first to commit to a value\n",
    "gojek.reveal_actual_value()\n"
   ]
  },
  {
   "cell_type": "markdown",
   "id": "d3af299a",
   "metadata": {},
   "source": [
    "### Clients' status after step 5 (value of variables in client)\n"
   ]
  },
  {
   "cell_type": "code",
   "execution_count": null,
   "id": "70ed5510",
   "metadata": {},
   "outputs": [],
   "source": [
    "d = {\"gojek common hashed values\": gojek.my_common_hashes,\n",
    "     \"grab common hashed values\": grab.my_common_hashes,\n",
    "    \"gojek sum of common hashed values\": gojek.my_sum_of_hashes,\n",
    "    \"grab sum of common hashed values\": grab.my_sum_of_hashes,\n",
    "    \"gojek self-encrypted sum of common hashed values\": gojek.my_self_encrypted_sum_of_hashes,\n",
    "    \"grab self-encrypted sum of common hashed values\": grab.my_self_encrypted_sum_of_hashes,\n",
    "    \"gojek actual value\": gojek.my_actual_value,\n",
    "    \"grab actual value\": grab.my_actual_value,\n",
    "    \"gojek committed value\": gojek.my_committed_value,\n",
    "    \"grab committed value\": grab.my_committed_value}\n",
    "df = pd.DataFrame(dict([(k,pd.Series(v)) for k,v in d.items()]))\n",
    "df\n"
   ]
  },
  {
   "cell_type": "markdown",
   "id": "25946dce",
   "metadata": {},
   "source": [
    "Note: No change from step 4"
   ]
  },
  {
   "cell_type": "markdown",
   "id": "8d42f3c7",
   "metadata": {},
   "source": [
    "### Files' status after step 5 (value of variables in file - clients' variables encrypted with Fernet)\n"
   ]
  },
  {
   "cell_type": "code",
   "execution_count": null,
   "id": "0580058e",
   "metadata": {},
   "outputs": [],
   "source": [
    "df_gojek = gojek.get_my_data()\n",
    "df_grab = grab.get_my_data()\n",
    "print(\"gojek's file:\")\n",
    "df_gojek[[\"my_self_encrypted_sum_of_hashes\", \"my_committed_value\", \"my_actual_value\"]].dropna()"
   ]
  },
  {
   "cell_type": "code",
   "execution_count": null,
   "id": "92060ee6",
   "metadata": {},
   "outputs": [],
   "source": [
    "print(\"grab's file:\")\n",
    "df_grab[[\"my_self_encrypted_sum_of_hashes\", \"my_committed_value\", \"my_actual_value\"]].dropna()"
   ]
  },
  {
   "cell_type": "markdown",
   "id": "652bdf8f",
   "metadata": {},
   "source": [
    "## Step 6: Verify exchanged values to verify no shuffling of encrypted set"
   ]
  },
  {
   "cell_type": "code",
   "execution_count": null,
   "id": "625584f7",
   "metadata": {},
   "outputs": [],
   "source": [
    "# clients check if the other party's committed value is the hashed value of their actual value\n",
    "gojek_match = gojek.check_if_actual_and_committed_values_match()\n",
    "grab_match = grab.check_if_actual_and_committed_values_match()\n",
    "\n",
    "# clients check if the other party's actual value are the same as theirs\n",
    "gojek_match = gojek.check_if_actual_values_match() and gojek_match\n",
    "grab_match = grab.check_if_actual_values_match() and grab_match\n",
    "\n",
    "if grab_match and gojek_match:\n",
    "    print(\"No cheating occurred!\")\n",
    "else:\n",
    "    print(\"Someone cheated!\")"
   ]
  }
 ],
 "metadata": {
  "kernelspec": {
   "display_name": "Python 3 (ipykernel)",
   "language": "python",
   "name": "python3"
  },
  "language_info": {
   "codemirror_mode": {
    "name": "ipython",
    "version": 3
   },
   "file_extension": ".py",
   "mimetype": "text/x-python",
   "name": "python",
   "nbconvert_exporter": "python",
   "pygments_lexer": "ipython3",
   "version": "3.9.7"
  }
 },
 "nbformat": 4,
 "nbformat_minor": 5
}
