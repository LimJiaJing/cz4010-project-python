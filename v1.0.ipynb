{
 "cells": [
  {
   "cell_type": "code",
   "execution_count": 2,
   "id": "7f0d96fe",
   "metadata": {},
   "outputs": [],
   "source": [
    "# import libraries (non-cryptogaphic)\n",
    "import random # to generate phone numbers\n",
    "import pandas as pd\n",
    "from functools import reduce\n",
    "\n",
    "# import libraries (cryptographic)\n",
    "import cryptography\n",
    "import hashlib\n",
    "import Crypto\n",
    "import sympy\n",
    "import secrets"
   ]
  },
  {
   "cell_type": "markdown",
   "id": "bea0438b",
   "metadata": {},
   "source": [
    "# Generate phone numbers and store them in phone_numbers.csv file"
   ]
  },
  {
   "cell_type": "code",
   "execution_count": 3,
   "id": "33d670c0",
   "metadata": {},
   "outputs": [],
   "source": [
    "random.seed(10) # to ensure same phone numbers generated every time"
   ]
  },
  {
   "cell_type": "code",
   "execution_count": 19,
   "id": "7abf8972",
   "metadata": {},
   "outputs": [],
   "source": [
    "# class to generate phone numbers for grab and gojek\n",
    "class PhoneNumberGenerator:\n",
    "    def __call__(self, count):\n",
    "        phone_numbers = random.sample(range(80000000,100000000), count)\n",
    "        return phone_numbers \n",
    "    \n",
    "# class to store numbers to csv\n",
    "class PhoneNumberStorageManager:\n",
    "    def __init__(self):\n",
    "        self.filename = \"phone_numbers.csv\"\n",
    "    def __call__(self, gojek_phone_numbers, grab_phone_numbers):\n",
    "        d = {\"gojek\": gojek_phone_numbers, \n",
    "            \"grab\": grab_phone_numbers}\n",
    "        df = pd.DataFrame(dict([(k,pd.Series(v)) for k,v in d.items()])) # create dataframe\n",
    "        df.to_csv(self.filename, index = False)"
   ]
  },
  {
   "cell_type": "code",
   "execution_count": 20,
   "id": "85482c94",
   "metadata": {},
   "outputs": [],
   "source": [
    "# generate and store phone numbers\n",
    "gojek_phone_number_count = 61\n",
    "grab_phone_number_count = 91\n",
    "\n",
    "# instantiate required classes\n",
    "phone_number_generator = PhoneNumberGenerator()\n",
    "phone_number_storage_manager = PhoneNumberStorageManager()\n",
    "\n",
    "# generate phone numbers\n",
    "gojek_phone_numbers = phone_number_generator(gojek_phone_number_count)\n",
    "grab_phone_numbers = phone_number_generator(grab_phone_number_count)\n",
    "\n",
    "# write phone numbers to csv file\n",
    "phone_number_storage_manager(gojek_phone_numbers, grab_phone_numbers)\n"
   ]
  },
  {
   "cell_type": "markdown",
   "id": "9a4bf976",
   "metadata": {},
   "source": [
    "# Define classes for the necessary for the algorithm"
   ]
  },
  {
   "cell_type": "code",
   "execution_count": null,
   "id": "ec3212b9",
   "metadata": {},
   "outputs": [],
   "source": [
    "# class to generate clients' private secret\n",
    "class NumberGenerator:\n",
    "    \n",
    "        def generate_safe_prime(size):\n",
    "            candidate = Crypto.Util.number.getPrime(size)\n",
    "            print(candidate)\n",
    "            while True:\n",
    "                is_safe_prime = sympy.ntheory.isprime((candidate-1)/2) # if same prime, (candidate-1)/2 is prime\n",
    "                if (is_safe_prime):\n",
    "                    break\n",
    "                else:\n",
    "                    candidate = Crypto.Util.number.getPrime(size)\n",
    "                    print(candidate)\n",
    "            return candidate\n",
    "        \n",
    "        def generate_random_number(size):\n",
    "            return secrets.randbits(size)\n",
    "            \n",
    "# class to inspect values          \n",
    "class NumberInspector:\n",
    "    \n",
    "    def check_is_primitive_generator(candidate, factors_pminus1, divisor): # note: factors should be the factors of divisor-1\n",
    "        \n",
    "        # apply lagrange theorem\n",
    "        for possible_order in factors_pminus1: # check congruence for all factors (factors is exclusive of p-1 itself)\n",
    "            result = pow(candidate, possible_order, divisor) # fast modular exponentiation\n",
    "            if (result == 1):\n",
    "                return false\n",
    "        return true\n",
    "    \n",
    "    def get_factors(n):\n",
    "        # retrieved from https://stackoverflow.com/questions/6800193/what-is-the-most-efficient-way-of-finding-all-the-factors-of-a-number-in-python\n",
    "        return set(reduce(list.__add__, \n",
    "                ([i, n//i] for i in range(1, int(n**0.5) + 1) if n % i == 0)))\n",
    "                \n",
    "    \n",
    "\n",
    "    \n",
    "        "
   ]
  },
  {
   "cell_type": "markdown",
   "id": "60d7e408",
   "metadata": {},
   "source": [
    "# Create psi client class"
   ]
  },
  {
   "cell_type": "code",
   "execution_count": null,
   "id": "b76d8c21",
   "metadata": {},
   "outputs": [],
   "source": [
    "# set global parameters\n",
    "set_size = 1000 # pre-agreed set size to exchange"
   ]
  },
  {
   "cell_type": "code",
   "execution_count": null,
   "id": "299bd91b",
   "metadata": {},
   "outputs": [],
   "source": [
    "# client class (both grab and gojek are clients communicating directly with each other)\n",
    "class psi_client:\n",
    "    def __init__(private_key_size, phone_numbers, p, factors_pminus1)\n",
    "        self.number_inspector = NumberInspector()\n",
    "        self.private_key = generate_random_number(private_key_size)\n",
    "        self.set = phone_numbers\n",
    "        self.p = p\n",
    "        self.factors_pminus1 = factors_pminus1\n",
    "\n",
    "    def hash_to_primitive_root_modulo_p(element):\n",
    "        hash_hex = hashlib.sha256(element).hexdigest() #sha3_256\n",
    "        hash_int = int(hash_hex, 16)\n",
    "        while True:\n",
    "            is_primitive_generator = self.number_inspector.check_is_primitive_generator(\n",
    "                hash_int, self.factors_pminus1, self.p\n",
    "            )\n",
    "            if (is_primitive_generator):\n",
    "                break\n",
    "            else:\n",
    "                hash_hex = hashlib.sha256(hash_int).hexdigest()\n",
    "                hash_int = int(hash_hex, 16)\n",
    "        return hash_int\n",
    "    \n",
    "    def modular_exponentation(element):\n",
    "        return pow(element, self.private_key, self.p)\n",
    "        \n",
    "    def encrypt_set(is_other_party, other_party_set=None):\n",
    "        if (is_other_party):\n",
    "            set_to_encrypt = other_party_set\n",
    "        else:\n",
    "            set_to_encrypt = self.set\n",
    "        \n",
    "        encrypted_values = []\n",
    "        for element in set_to_encrypt:\n",
    "            hashed_value = hash_to_primitive_root_modulo_p(element)\n",
    "            encrypted_value = modular_exponentation(hashed_value)\n",
    "            encrypted_values.append(encrypted_value)\n",
    "        \n",
    "        return encrypted_values\n",
    "        \n",
    "    def get_intersection(my_set, other_party_set):\n",
    "        \n",
    "        encrypted_common_values = set(my_set).intersection(other_party_set)\n",
    "        index_of_common_values = []\n",
    "        \n",
    "        for element in encrypted_common_values:\n",
    "            index_of_common_values.append(my_set.index(element))\n",
    "            \n",
    "        common_values = []\n",
    "        \n",
    "        for index in index_of_common_values:\n",
    "            common_values.append(my_set[index])\n",
    "            \n",
    "        return common_values\n",
    "        \n",
    "            \n",
    "        "
   ]
  },
  {
   "cell_type": "markdown",
   "id": "fd5a7696",
   "metadata": {},
   "source": [
    "# Algorithm"
   ]
  },
  {
   "cell_type": "code",
   "execution_count": null,
   "id": "c291cab8",
   "metadata": {},
   "outputs": [],
   "source": []
  }
 ],
 "metadata": {
  "kernelspec": {
   "display_name": "Python 3 (ipykernel)",
   "language": "python",
   "name": "python3"
  },
  "language_info": {
   "codemirror_mode": {
    "name": "ipython",
    "version": 3
   },
   "file_extension": ".py",
   "mimetype": "text/x-python",
   "name": "python",
   "nbconvert_exporter": "python",
   "pygments_lexer": "ipython3",
   "version": "3.9.7"
  }
 },
 "nbformat": 4,
 "nbformat_minor": 5
}
